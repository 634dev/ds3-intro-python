{
 "cells": [
  {
   "cell_type": "markdown",
   "id": "69f2fcf7-15de-48a5-8251-964f85c66772",
   "metadata": {
    "editable": true,
    "slideshow": {
     "slide_type": "slide"
    },
    "tags": []
   },
   "source": [
    "# Basic Python\n",
    "\n",
    "In this first notebook we will run through functionality in the base Python language."
   ]
  },
  {
   "cell_type": "markdown",
   "id": "61caa535-6c38-4e1b-a528-35247f8e41b3",
   "metadata": {
    "editable": true,
    "slideshow": {
     "slide_type": "skip"
    },
    "tags": []
   },
   "source": [
    "- Variable Assignment (`=`)\n",
    "- Data types: (`str`, `int`, `bool`, `float`)\n",
    "- Data structures: (`list`, `dict`)\n",
    "\t- Accessing elements of structures\n",
    "- Iteration: `for`\n",
    "- Functions\n",
    "- Classes?"
   ]
  },
  {
   "cell_type": "markdown",
   "id": "42884633-93e3-41f9-b125-6f3c25639167",
   "metadata": {
    "editable": true,
    "slideshow": {
     "slide_type": "slide"
    },
    "tags": []
   },
   "source": [
    "# Python session as a \"canvas\".\n",
    "\n",
    "- When you start a python session, your computer creates a blank canvas\n",
    "- This canvas can be populated with python objects.\n",
    "- We write and execute commands in the notebook \"cells\".\n",
    "- These commands can create and modify objects that persist in the memory."
   ]
  },
  {
   "cell_type": "markdown",
   "id": "275dd930-6a72-4661-82d7-8afda61117c9",
   "metadata": {
    "editable": true,
    "slideshow": {
     "slide_type": "slide"
    },
    "tags": []
   },
   "source": [
    "# Variable Assignment\n",
    "\n",
    "- Variables are names that point to particular objects on the canvas.\n",
    "- We assign variables with the `=` operator."
   ]
  },
  {
   "cell_type": "code",
   "execution_count": 1,
   "id": "f52d2311-9c51-4266-8eb1-e321bcef09eb",
   "metadata": {
    "editable": true,
    "slideshow": {
     "slide_type": "fragment"
    },
    "tags": []
   },
   "outputs": [],
   "source": [
    "x = 1\n",
    "y = 2"
   ]
  },
  {
   "cell_type": "markdown",
   "id": "abe09163-9688-449e-bb21-e151bcc50d21",
   "metadata": {
    "editable": true,
    "slideshow": {
     "slide_type": "subslide"
    },
    "tags": []
   },
   "source": [
    "The `print()` function displays the value of an object."
   ]
  },
  {
   "cell_type": "code",
   "execution_count": 4,
   "id": "7ebe7c8a-1c17-44e4-b4e9-f4e65afff472",
   "metadata": {
    "editable": true,
    "slideshow": {
     "slide_type": "fragment"
    },
    "tags": []
   },
   "outputs": [
    {
     "name": "stdout",
     "output_type": "stream",
     "text": [
      "1\n",
      "2\n"
     ]
    }
   ],
   "source": [
    "print(x)\n",
    "print(y) "
   ]
  },
  {
   "cell_type": "markdown",
   "id": "fc388eea-bf10-43c8-8380-d1e05cfc23ed",
   "metadata": {
    "editable": true,
    "slideshow": {
     "slide_type": "fragment"
    },
    "tags": []
   },
   "source": [
    "Note: by default notebooks will print the output of the last line in a cell"
   ]
  },
  {
   "cell_type": "markdown",
   "id": "2a8e12f9-ee08-442c-a304-29615e78b570",
   "metadata": {
    "editable": true,
    "slideshow": {
     "slide_type": "subslide"
    },
    "tags": []
   },
   "source": [
    "There are some rules for variable assignment:\n",
    "\n",
    "- Variable names cannot contain spaces\n",
    "- The first letter of the variable cannot be a number or symbol\n",
    "\n",
    "Both of these will return `SyntaxError`, because the interpreter cannot understand these commands."
   ]
  },
  {
   "cell_type": "code",
   "execution_count": null,
   "id": "f2dbdf77-3f1b-4847-af01-886b33b6983a",
   "metadata": {
    "editable": true,
    "slideshow": {
     "slide_type": "fragment"
    },
    "tags": []
   },
   "outputs": [],
   "source": [
    "a variable = \"this will give an error\"\n"
   ]
  },
  {
   "cell_type": "code",
   "execution_count": null,
   "id": "c953ff82-55c5-44b4-82bc-daaa8c213bd0",
   "metadata": {
    "editable": true,
    "slideshow": {
     "slide_type": "fragment"
    },
    "tags": []
   },
   "outputs": [],
   "source": [
    "1st_variable = \"this will also give an error\"\n"
   ]
  },
  {
   "cell_type": "markdown",
   "id": "5e1ceb0c-8ee9-4082-be13-c1430a055467",
   "metadata": {
    "editable": true,
    "slideshow": {
     "slide_type": "slide"
    },
    "tags": []
   },
   "source": [
    "# Types\n",
    "\n",
    "The type of an object can be displayed using the `type()` function."
   ]
  },
  {
   "cell_type": "code",
   "execution_count": 3,
   "id": "f505bd36-ebd5-44e9-afa2-9cba8cc833b9",
   "metadata": {
    "editable": true,
    "slideshow": {
     "slide_type": ""
    },
    "tags": []
   },
   "outputs": [
    {
     "data": {
      "text/plain": [
       "int"
      ]
     },
     "execution_count": 3,
     "metadata": {},
     "output_type": "execute_result"
    }
   ],
   "source": [
    "type(x)"
   ]
  },
  {
   "attachments": {},
   "cell_type": "markdown",
   "id": "a97cc251-fa8f-494e-b050-5f1633dc4699",
   "metadata": {
    "editable": true,
    "slideshow": {
     "slide_type": "subslide"
    },
    "tags": []
   },
   "source": [
    "- Type of an object determines what it can do, and what can be done to it.\n",
    "- Four basic data types in Python\n",
    "    - Integers: `int`\n",
    "    - Strings: `str`\n",
    "    - Floats: `float`\n",
    "    - Booleans: `bool`"
   ]
  },
  {
   "cell_type": "markdown",
   "id": "ef376065-aa81-4aae-9827-a10ab31f1130",
   "metadata": {
    "editable": true,
    "slideshow": {
     "slide_type": "subslide"
    },
    "tags": []
   },
   "source": [
    "## Integers\n",
    "\n",
    "Integers are whole numbers."
   ]
  },
  {
   "cell_type": "markdown",
   "id": "2103037a-2eb4-4a0d-868e-052148d77cfa",
   "metadata": {
    "editable": true,
    "slideshow": {
     "slide_type": "subslide"
    },
    "tags": []
   },
   "source": [
    "Integers can be assigned to variables with the `=` operator."
   ]
  },
  {
   "cell_type": "code",
   "execution_count": null,
   "id": "802c455f-d91b-498a-9cc5-9ab3fea15087",
   "metadata": {
    "editable": true,
    "slideshow": {
     "slide_type": "fragment"
    },
    "tags": []
   },
   "outputs": [],
   "source": [
    "a = 5\n",
    "b = 13"
   ]
  },
  {
   "cell_type": "markdown",
   "id": "e9d858f3-5587-4cd4-8b4e-058620d327b7",
   "metadata": {
    "editable": true,
    "slideshow": {
     "slide_type": "subslide"
    },
    "tags": []
   },
   "source": [
    "Basic binary operators are as expected: `+`, `-`, `*`, `/`"
   ]
  },
  {
   "cell_type": "code",
   "execution_count": 7,
   "id": "dc90fec8-38dd-4fab-b81e-814b59d7ac59",
   "metadata": {
    "editable": true,
    "slideshow": {
     "slide_type": "fragment"
    },
    "tags": []
   },
   "outputs": [
    {
     "name": "stdout",
     "output_type": "stream",
     "text": [
      "2\n",
      "3\n",
      "5\n",
      "-1\n",
      "6\n"
     ]
    }
   ],
   "source": [
    "print(a)\n",
    "print(b)\n",
    "print(a+b)\n",
    "print(a-b)\n",
    "print(a*b)"
   ]
  },
  {
   "cell_type": "markdown",
   "id": "5277ce8f-6688-4107-b7c8-eebde0c731f2",
   "metadata": {
    "editable": true,
    "slideshow": {
     "slide_type": "subslide"
    },
    "tags": []
   },
   "source": [
    "**_Comprehension Check_**:\n",
    "\n",
    "Assign the integers 2, 3 and 7 to the variables `a`, `b` and `c`.\n",
    "\n",
    "_Challenge:_ How many ways can you get `-1` from these three variables using each one only once?"
   ]
  },
  {
   "cell_type": "code",
   "execution_count": 6,
   "id": "4818ad3c-227e-4ecf-ab38-9cfafcba09e3",
   "metadata": {
    "editable": true,
    "slideshow": {
     "slide_type": "fragment"
    },
    "tags": []
   },
   "outputs": [
    {
     "name": "stdout",
     "output_type": "stream",
     "text": [
      "-1\n",
      "-1\n"
     ]
    }
   ],
   "source": [
    "a = 2\n",
    "b = 3\n",
    "c = 7\n",
    "print(a-b)\n",
    "print(a*b-c)"
   ]
  },
  {
   "cell_type": "markdown",
   "id": "b2fbc9a2-7eaf-486d-a49c-dfad80c6b690",
   "metadata": {
    "editable": true,
    "slideshow": {
     "slide_type": "slide"
    },
    "tags": []
   },
   "source": [
    "## Strings\n",
    "\n",
    "We began by looking at strings (`str`), which are a _sequence of characters_.\n",
    "\n",
    "Strings are created by writing a sequence of letters between _single **or** double_ quotes."
   ]
  },
  {
   "cell_type": "markdown",
   "id": "17b1db93-7cef-4659-a2a1-e1f0ab423b5d",
   "metadata": {
    "editable": true,
    "slideshow": {
     "slide_type": "subslide"
    },
    "tags": []
   },
   "source": [
    "_**Task:**_\n",
    "\n",
    "Assign the following strings to the following variables.\n",
    "\n",
    "`first_word`, `\"Hello\"` <br>\n",
    "`second_word`, `\"World\"` <br>\n",
    "`first_punct`, `\"!\"` <br>"
   ]
  },
  {
   "cell_type": "code",
   "execution_count": null,
   "id": "27a60732-3d63-4db7-a927-b9904571fea8",
   "metadata": {
    "editable": true,
    "slideshow": {
     "slide_type": "fragment"
    },
    "tags": []
   },
   "outputs": [],
   "source": [
    "first_word = \"Hello\"\n",
    "second_word = \"World\"\n",
    "first_punct = \"!\"\n"
   ]
  },
  {
   "cell_type": "markdown",
   "id": "e240fda5-2363-4850-b8c9-66461e7910b0",
   "metadata": {
    "editable": true,
    "slideshow": {
     "slide_type": "subslide"
    },
    "tags": []
   },
   "source": [
    "We can test equivalence using the `==` operator."
   ]
  },
  {
   "cell_type": "markdown",
   "id": "9ac2affb-3cb1-40a8-8442-c4bb8c0c2025",
   "metadata": {
    "editable": true,
    "slideshow": {
     "slide_type": "fragment"
    },
    "tags": []
   },
   "source": [
    "_**Task:**_\n",
    "\n",
    "Test whether the following are equal:\n",
    "\n",
    "- `first_word` and `first_word`\n",
    "- `first_word` and `second_word`"
   ]
  },
  {
   "cell_type": "code",
   "execution_count": null,
   "id": "987ebfd3-5521-4243-be14-b8640961b569",
   "metadata": {
    "editable": true,
    "slideshow": {
     "slide_type": "fragment"
    },
    "tags": []
   },
   "outputs": [],
   "source": [
    "first_word == first_word\n"
   ]
  },
  {
   "cell_type": "code",
   "execution_count": null,
   "id": "3b68cd11-f186-4b6e-a6b2-fc88af9bc3db",
   "metadata": {
    "editable": true,
    "slideshow": {
     "slide_type": "fragment"
    },
    "tags": []
   },
   "outputs": [],
   "source": [
    "first_word == second_word\n"
   ]
  },
  {
   "cell_type": "markdown",
   "id": "96de12a7-927e-4c37-a975-99def308c1bf",
   "metadata": {
    "editable": true,
    "slideshow": {
     "slide_type": "subslide"
    },
    "tags": []
   },
   "source": [
    "We can combine _strings_ with the `+` operator.\n",
    "\n",
    "_**Task:**_\n",
    "\n",
    "Using `first_word`, `second_word`, `first_punct`, the `+` operator, and anything else you may need, create a new variable called `first_sentence` and print it."
   ]
  },
  {
   "cell_type": "code",
   "execution_count": null,
   "id": "83d0c5eb-bbf5-47e7-a883-d35275d392a9",
   "metadata": {
    "editable": true,
    "slideshow": {
     "slide_type": "subslide"
    },
    "tags": []
   },
   "outputs": [],
   "source": [
    "print(first_word+second_word+first_punct)\n"
   ]
  },
  {
   "cell_type": "code",
   "execution_count": null,
   "id": "39e4fb3b-2415-4ab0-b9ca-8cee505112be",
   "metadata": {
    "editable": true,
    "slideshow": {
     "slide_type": "fragment"
    },
    "tags": []
   },
   "outputs": [],
   "source": [
    "# Try it out!\n",
    "first_sentence =\n"
   ]
  },
  {
   "cell_type": "code",
   "execution_count": null,
   "id": "27ddfeb9-e179-4811-a2a5-3d81ff011da8",
   "metadata": {
    "editable": true,
    "slideshow": {
     "slide_type": "fragment"
    },
    "tags": []
   },
   "outputs": [],
   "source": [
    "first_sentence == \"Hello World!\"\n"
   ]
  },
  {
   "cell_type": "markdown",
   "id": "a1253ea0-1428-4fe5-ae37-ed0c64db89d9",
   "metadata": {
    "editable": true,
    "slideshow": {
     "slide_type": "subslide"
    },
    "tags": []
   },
   "source": [
    "Strings can be indexed by using the `[]` operator _after_ the string.\n",
    "\n",
    "Note that python counts from zero!"
   ]
  },
  {
   "cell_type": "code",
   "execution_count": null,
   "id": "878b7628-5237-49c9-bd9c-0807144b3939",
   "metadata": {
    "editable": true,
    "slideshow": {
     "slide_type": "fragment"
    },
    "tags": []
   },
   "outputs": [],
   "source": [
    "the_word = \"bird\"\n",
    "\n",
    "print(the_word+\" is the word\")\n",
    "print(the_word[0]+\" is the first letter of the word\")\n",
    "print(the_word[1]+\" is the second letter of the word\")\n"
   ]
  },
  {
   "cell_type": "markdown",
   "id": "6c3b8206-7ba2-46b2-8f3a-83fc205ae2b9",
   "metadata": {
    "editable": true,
    "slideshow": {
     "slide_type": "subslide"
    },
    "tags": []
   },
   "source": [
    "Use the `:` to return a range of values. The range `[m:n]` returns from the (m+1)th letter to the nth letter."
   ]
  },
  {
   "cell_type": "code",
   "execution_count": null,
   "id": "43d1509c-ea9c-43d6-827d-5da2c5acf49a",
   "metadata": {
    "editable": true,
    "slideshow": {
     "slide_type": "fragment"
    },
    "tags": []
   },
   "outputs": [],
   "source": [
    "print(the_word[0:2]+\" is the first two letters of the word\")\n",
    "print(the_word[1:3]+\" is the second and third letter of the word\")\n"
   ]
  },
  {
   "cell_type": "code",
   "execution_count": null,
   "id": "74a5cd04-2b35-4272-890f-d52799505294",
   "metadata": {
    "editable": true,
    "slideshow": {
     "slide_type": ""
    },
    "tags": []
   },
   "outputs": [],
   "source": [
    "# Try it out!\n",
    "the_word[_:_] == 'ird'\n"
   ]
  },
  {
   "cell_type": "markdown",
   "id": "9f3f2ae3-2d6d-46be-93e4-98f0f3a0c585",
   "metadata": {
    "editable": true,
    "slideshow": {
     "slide_type": "subslide"
    },
    "tags": []
   },
   "source": [
    "*Useful tip*: `[-1]` returns the last element of a sequence; in this case, the last character in a word."
   ]
  },
  {
   "cell_type": "code",
   "execution_count": null,
   "id": "a08dea85-e6d2-48f8-ada3-33cc82d85b7e",
   "metadata": {
    "editable": true,
    "slideshow": {
     "slide_type": "fragment"
    },
    "tags": []
   },
   "outputs": [],
   "source": [
    "print(the_word[-1])\n"
   ]
  },
  {
   "cell_type": "markdown",
   "id": "209ded15-ae1b-43f6-9b15-c49ae7f4a159",
   "metadata": {
    "editable": true,
    "slideshow": {
     "slide_type": "slide"
    },
    "tags": []
   },
   "source": [
    "# Floats\n",
    "\n",
    "Floats are, technically, the representation of real numbers ($\\mathbb{R}$) in base 2.\n",
    "\n",
    "For our purposes, all non-whole numbers are represented by floats."
   ]
  },
  {
   "cell_type": "markdown",
   "id": "48f00081-bef2-40e8-bd08-0ada1dd1840b",
   "metadata": {
    "editable": true,
    "slideshow": {
     "slide_type": "subslide"
    },
    "tags": []
   },
   "source": [
    "Floats can be constructed using the `.` in a number:"
   ]
  },
  {
   "cell_type": "code",
   "execution_count": null,
   "id": "a9eace4f-762f-4e56-82ec-75be8be8d81f",
   "metadata": {
    "editable": true,
    "slideshow": {
     "slide_type": "fragment"
    },
    "tags": []
   },
   "outputs": [],
   "source": [
    "x = 1.0\n",
    "y = 3.4\n",
    "print(x, \"and\", y, \"are floats\")\n"
   ]
  },
  {
   "cell_type": "markdown",
   "id": "834c8485-d83a-4ee3-900b-cc0472f0390e",
   "metadata": {
    "editable": true,
    "slideshow": {
     "slide_type": "subslide"
    },
    "tags": []
   },
   "source": [
    "Python also automatically converts the output of integer division to a float:"
   ]
  },
  {
   "cell_type": "code",
   "execution_count": null,
   "id": "381ad27a-0c51-41ec-b2bb-41695b6476c3",
   "metadata": {
    "editable": true,
    "slideshow": {
     "slide_type": "fragment"
    },
    "tags": []
   },
   "outputs": [],
   "source": [
    "print(1/3)\n",
    "print(3)\n",
    "print(3/1)\n"
   ]
  },
  {
   "cell_type": "markdown",
   "id": "4d76583a-27fc-4fad-87ff-1bb61a3a5e70",
   "metadata": {
    "editable": true,
    "slideshow": {
     "slide_type": "subslide"
    },
    "tags": []
   },
   "source": [
    "## Warning!!\n",
    "\n",
    "Floats can behave unpredictably. Note the following examples:"
   ]
  },
  {
   "cell_type": "code",
   "execution_count": null,
   "id": "dd10ac62-a38c-485d-a8a0-10e0cba178e7",
   "metadata": {
    "editable": true,
    "slideshow": {
     "slide_type": "subslide"
    },
    "tags": []
   },
   "outputs": [],
   "source": [
    "10*0.1*3 == 3\n"
   ]
  },
  {
   "cell_type": "code",
   "execution_count": null,
   "id": "a47bac8a-ecb5-4d55-8402-33f839002c2b",
   "metadata": {
    "editable": true,
    "slideshow": {
     "slide_type": "fragment"
    },
    "tags": []
   },
   "outputs": [],
   "source": [
    "0.1*3*10 == 3\n"
   ]
  },
  {
   "cell_type": "code",
   "execution_count": null,
   "id": "ac5cc8e7-2b09-476a-bc00-cdc9fff65b4f",
   "metadata": {
    "editable": true,
    "slideshow": {
     "slide_type": "fragment"
    },
    "tags": []
   },
   "outputs": [],
   "source": [
    "0.1*3 == 0.3\n"
   ]
  },
  {
   "cell_type": "code",
   "execution_count": null,
   "id": "2a200812-8a27-45c9-859f-b972151b34eb",
   "metadata": {
    "editable": true,
    "slideshow": {
     "slide_type": "fragment"
    },
    "tags": []
   },
   "outputs": [],
   "source": [
    "0.1*3\n"
   ]
  },
  {
   "cell_type": "markdown",
   "id": "48d01c7c-8ce3-4bdd-8060-ad9db271840b",
   "metadata": {
    "editable": true,
    "slideshow": {
     "slide_type": "slide"
    },
    "tags": []
   },
   "source": [
    "# Booleans\n",
    "\n",
    "Booleans are True/False values; you will have noticed that we have already come across these.\n",
    "\n",
    "There are two Booleans: `True` and `False`.\n",
    "\n",
    "\n",
    "## Boolean Operators\n",
    "\n",
    "- `and`\n",
    "- `or`"
   ]
  },
  {
   "cell_type": "code",
   "execution_count": null,
   "id": "5250f08e-e1c1-46b6-b5ce-a077a489315e",
   "metadata": {
    "editable": true,
    "slideshow": {
     "slide_type": "subslide"
    },
    "tags": []
   },
   "outputs": [],
   "source": [
    "True and True\n"
   ]
  },
  {
   "cell_type": "code",
   "execution_count": null,
   "id": "a556ae8f-5ee1-40a8-9031-ffc71080980e",
   "metadata": {
    "editable": true,
    "slideshow": {
     "slide_type": "fragment"
    },
    "tags": []
   },
   "outputs": [],
   "source": [
    "False or True\n"
   ]
  },
  {
   "cell_type": "markdown",
   "id": "69e31b39-baa5-481a-a830-ba963c6ec52a",
   "metadata": {
    "editable": true,
    "slideshow": {
     "slide_type": "subslide"
    },
    "tags": []
   },
   "source": [
    "Also: Booleans act like the integers 0 and 1."
   ]
  },
  {
   "cell_type": "code",
   "execution_count": null,
   "id": "fafb5821-e3a1-4b7b-b4a5-0ddab40a34b1",
   "metadata": {
    "editable": true,
    "slideshow": {
     "slide_type": "subslide"
    },
    "tags": []
   },
   "outputs": [],
   "source": [
    "True+True\n"
   ]
  },
  {
   "cell_type": "code",
   "execution_count": null,
   "id": "9556a1c0-9aeb-4989-9c23-818ec9ca13da",
   "metadata": {
    "editable": true,
    "slideshow": {
     "slide_type": "fragment"
    },
    "tags": []
   },
   "outputs": [],
   "source": [
    "True*False\n"
   ]
  },
  {
   "cell_type": "code",
   "execution_count": null,
   "id": "421151a9-b32e-4041-bc82-64087bfa56d8",
   "metadata": {
    "editable": true,
    "slideshow": {
     "slide_type": "fragment"
    },
    "tags": []
   },
   "outputs": [],
   "source": [
    "False/False\n"
   ]
  },
  {
   "cell_type": "markdown",
   "id": "a4f05d3d-c298-4a27-8487-37a51ef13564",
   "metadata": {
    "editable": true,
    "slideshow": {
     "slide_type": "slide"
    },
    "tags": []
   },
   "source": [
    "# Extra: Checking and Converting Types\n",
    "\n",
    "- The type of an object can be detected by using the `type` function.\n",
    "- The type of an object can be coerced by calling the a different type on the object."
   ]
  },
  {
   "cell_type": "code",
   "execution_count": null,
   "id": "466c82cf-44ba-45f2-81d3-bdcfeab0b3a3",
   "metadata": {
    "editable": true,
    "slideshow": {
     "slide_type": "fragment"
    },
    "tags": []
   },
   "outputs": [],
   "source": [
    "print(type(15))\n",
    "print(type(float(15)))\n"
   ]
  },
  {
   "cell_type": "markdown",
   "id": "8d6690dd-93b2-4c8e-b952-66ff04ea6b4d",
   "metadata": {
    "editable": true,
    "slideshow": {
     "slide_type": "subslide"
    },
    "tags": []
   },
   "source": [
    "**_Task:_**\n",
    "\n",
    "- _Create two variables, `a` and `b`._\n",
    "- _Assign an integer to `a` and a float to `b`._\n",
    "- _Use the `print()` and `type()` functions to check the types of `a` and `b`._"
   ]
  },
  {
   "cell_type": "code",
   "execution_count": null,
   "id": "6360f134-0c5f-4168-bea2-2b10fe530fbc",
   "metadata": {
    "editable": true,
    "slideshow": {
     "slide_type": "fragment"
    },
    "tags": []
   },
   "outputs": [],
   "source": [
    "a = 3\n",
    "print(type(a))\n",
    "\n",
    "b = 0.439\n",
    "print(type(b))\n"
   ]
  },
  {
   "cell_type": "markdown",
   "id": "289801d0-cdb5-40da-9f4f-db154221d216",
   "metadata": {
    "editable": true,
    "slideshow": {
     "slide_type": "subslide"
    },
    "tags": []
   },
   "source": [
    "**_Task_**:\n",
    "\n",
    "- Create an integer variable `i`.\n",
    "- Use the `float()` function with `i` to create a float variable, `f`.\n",
    "- Use the `str()` function with `i` to create a string variable, `s`.\n",
    "- For each of the variables `i`, `f` and `s`, print the variable, its type, and the result of the variable plus itself."
   ]
  },
  {
   "cell_type": "code",
   "execution_count": null,
   "id": "f3a2b017-877c-4edb-a784-9c3f3e171ec7",
   "metadata": {
    "editable": true,
    "slideshow": {
     "slide_type": "fragment"
    },
    "tags": []
   },
   "outputs": [],
   "source": [
    "i = 5423\n",
    "f = float(i)\n",
    "s = str(i)\n",
    "\n",
    "print(i, type(i), i+i)\n",
    "print(f, type(f), f+f)\n",
    "print(s, type(s), s+s)\n"
   ]
  },
  {
   "cell_type": "markdown",
   "id": "d91c72a2-9d8f-42c0-a1f1-02b55b36a81b",
   "metadata": {
    "editable": true,
    "slideshow": {
     "slide_type": "slide"
    },
    "tags": []
   },
   "source": [
    "# Data Structures:\n",
    "\n",
    "I introduce two base data containers:\n",
    "\n",
    "- Lists\n",
    "- Dictionaries"
   ]
  },
  {
   "cell_type": "markdown",
   "id": "ef4d0987-3efb-4a0f-b4a1-84789ada7917",
   "metadata": {
    "editable": true,
    "slideshow": {
     "slide_type": "subslide"
    },
    "tags": []
   },
   "source": [
    "# Lists\n",
    "\n",
    "Lists are a type of data container in base Python. Lists are:\n",
    "\n",
    "- 1-dimensional\n",
    "- Ordered and indexed\n",
    "- Mutable\n",
    "- Able to contain any (type of) object"
   ]
  },
  {
   "cell_type": "markdown",
   "id": "6fc7de0b-c82b-469e-b5c8-f25ddaca44d0",
   "metadata": {
    "editable": true,
    "slideshow": {
     "slide_type": "fragment"
    },
    "tags": []
   },
   "source": [
    "To create a list, write a sequence of values separated by commas between square brackets:"
   ]
  },
  {
   "cell_type": "code",
   "execution_count": null,
   "id": "e3bdb793-8f80-4de0-a896-a7337441b52e",
   "metadata": {
    "editable": true,
    "slideshow": {
     "slide_type": "fragment"
    },
    "tags": []
   },
   "outputs": [],
   "source": [
    "my_list = [1, 2, 3]  # Contains only integers.\n",
    "my_list = [1, 2.0, '3']  # Contains integer, float and string\n"
   ]
  },
  {
   "cell_type": "markdown",
   "id": "c510ae33-6426-4114-8eec-65fac32ce5bb",
   "metadata": {
    "editable": true,
    "slideshow": {
     "slide_type": "subslide"
    },
    "tags": []
   },
   "source": [
    "## Indexing and Slicing Lists\n",
    "\n",
    "- Lists can be indexed in the same way as strings, using the `list[m:n]` notation.\n",
    "    - `list[0]` returns the first value of the list\n",
    "    - `list[0:3]` returns a slice of the first, second and third value of the list"
   ]
  },
  {
   "cell_type": "markdown",
   "id": "8c18010e-9a76-48aa-ae5d-95bcc072d2c0",
   "metadata": {
    "editable": true,
    "slideshow": {
     "slide_type": "fragment"
    },
    "tags": []
   },
   "source": [
    "**_Task_**:\n",
    "\n",
    "- Create a list of strings containing three letters (easiest if you name it `x`).\n",
    "- Using list indexing and slicing with string addition (concatenation), write a sentence using only those letters and spaces. Spaces are free."
   ]
  },
  {
   "cell_type": "code",
   "execution_count": null,
   "id": "3e94d26b-7d8c-460c-8614-018cb1b89bb9",
   "metadata": {
    "editable": true,
    "slideshow": {
     "slide_type": "subslide"
    },
    "tags": []
   },
   "outputs": [],
   "source": [
    "x = ['a', 't', 'e']\n"
   ]
  },
  {
   "cell_type": "code",
   "execution_count": null,
   "id": "38c9c13c-7e2e-47a7-84c8-b78858e57b88",
   "metadata": {
    "editable": true,
    "slideshow": {
     "slide_type": "fragment"
    },
    "tags": []
   },
   "outputs": [],
   "source": [
    "# Eat tea!\n",
    "\n",
    "print(x[2]+x[0]+x[1]+\" \"+x[1]+x[2]+x[0])\n"
   ]
  },
  {
   "cell_type": "markdown",
   "id": "2c62414b-4d6f-466c-902f-670ae5d116c5",
   "metadata": {
    "editable": true,
    "slideshow": {
     "slide_type": "subslide"
    },
    "tags": []
   },
   "source": [
    "## Changing Values in Lists\n",
    "\n",
    "We can assign or reassign values using `=` and indexers:"
   ]
  },
  {
   "cell_type": "code",
   "execution_count": null,
   "id": "95530b78-8cc7-4ac0-a389-c755d6033466",
   "metadata": {
    "editable": true,
    "slideshow": {
     "slide_type": "fragment"
    },
    "tags": []
   },
   "outputs": [],
   "source": [
    "x[0] = 'A'\n",
    "x[1] = 'T'\n",
    "\n",
    "print(x[2]+x[0]+x[1]+\" \"+x[1]+x[2]+x[0])\n"
   ]
  },
  {
   "cell_type": "code",
   "execution_count": null,
   "id": "a388233a-ca3e-4122-96ca-90a529df3c58",
   "metadata": {
    "editable": true,
    "slideshow": {
     "slide_type": "fragment"
    },
    "tags": []
   },
   "outputs": [],
   "source": [
    "x[0:2] = ['a', 't']\n",
    "\n",
    "print(x[2]+x[0]+x[1]+\" \"+x[1]+x[2]+x[0])\n"
   ]
  },
  {
   "cell_type": "markdown",
   "id": "efb8096e-ecd6-41c5-82aa-1d9ee48b51cd",
   "metadata": {
    "editable": true,
    "slideshow": {
     "slide_type": "slide"
    },
    "tags": []
   },
   "source": [
    "# Dictionaries\n",
    "\n",
    "- Dictionaries are an unordered mapping of _keys_ to _values_. \n",
    "- Created by writing a list of `key:value` pairs separated by commas between `{}`."
   ]
  },
  {
   "cell_type": "code",
   "execution_count": null,
   "id": "ca0c5866-e92b-4061-bc8f-a0f8dbbe258a",
   "metadata": {
    "editable": true,
    "slideshow": {
     "slide_type": "fragment"
    },
    "tags": []
   },
   "outputs": [],
   "source": [
    "favourite_icecream = {\n",
    "    \"Musashi\": \"chocolate\",\n",
    "    \"Marco\": \"dulce de leche\"\n",
    "}\n"
   ]
  },
  {
   "cell_type": "markdown",
   "id": "9944c5f6-4a6c-4610-b2c3-5e037cc0be1f",
   "metadata": {
    "editable": true,
    "slideshow": {
     "slide_type": "fragment"
    },
    "tags": []
   },
   "source": [
    "- Values are accessed with `dict_name[key]`"
   ]
  },
  {
   "cell_type": "code",
   "execution_count": null,
   "id": "f935e8f5-2e09-445a-8e8b-608a08a4eaad",
   "metadata": {
    "editable": true,
    "slideshow": {
     "slide_type": "fragment"
    },
    "tags": []
   },
   "outputs": [],
   "source": [
    "print(favourite_icecream['Musashi'])\n",
    "print(favourite_icecream['Marco'])\n"
   ]
  },
  {
   "cell_type": "markdown",
   "id": "b2e48ff0-cb66-4fa8-922a-28c0e339ba5b",
   "metadata": {
    "editable": true,
    "slideshow": {
     "slide_type": "subslide"
    },
    "tags": []
   },
   "source": [
    "- New key-value pairs can be added or modified with `=`"
   ]
  },
  {
   "cell_type": "code",
   "execution_count": null,
   "id": "7a0b353c-db8a-4954-8c3f-31abdf3a9976",
   "metadata": {
    "editable": true,
    "slideshow": {
     "slide_type": "fragment"
    },
    "tags": []
   },
   "outputs": [],
   "source": [
    "favourite_icecream['Raquel'] = 'pistachio'\n",
    "favourite_icecream['Musashi'] = 'green tea'\n",
    "\n",
    "print(favourite_icecream['Musashi'])\n",
    "print(favourite_icecream['Raquel'])\n"
   ]
  },
  {
   "cell_type": "markdown",
   "id": "d47c96c9-3258-4b50-85f7-9939c0974458",
   "metadata": {
    "editable": true,
    "slideshow": {
     "slide_type": "subslide"
    },
    "tags": []
   },
   "source": [
    "## Accessing All Keys or Values\n",
    "\n",
    "To view all of the keys or values in a dictionary, you can use the following _methods_:\n",
    "\n",
    "- `dict_name.keys()`\n",
    "- `dict_name.values()`\n",
    "\n",
    "IMPORTANT: Dictionaries are **not** ordered, meaning the sequence of keys and values may not be in the same order."
   ]
  },
  {
   "cell_type": "code",
   "execution_count": null,
   "id": "1e336ed1-03ce-421f-bcc8-685217b718e6",
   "metadata": {
    "editable": true,
    "slideshow": {
     "slide_type": "fragment"
    },
    "tags": []
   },
   "outputs": [],
   "source": [
    "print(favourite_icecream.keys())\n",
    "print(favourite_icecream.values())\n"
   ]
  },
  {
   "cell_type": "markdown",
   "id": "2e63b7a8-8853-4766-b20c-756297409b27",
   "metadata": {
    "editable": true,
    "slideshow": {
     "slide_type": "subslide"
    },
    "tags": []
   },
   "source": [
    "**_Task_**:\n",
    "\n",
    "- Type your favourite food into the chat, then create a dictionary with five entries based on people and their favourite foods."
   ]
  },
  {
   "cell_type": "markdown",
   "id": "6d11863d-78df-4d47-a659-80fc09b4534c",
   "metadata": {
    "editable": true,
    "slideshow": {
     "slide_type": "slide"
    },
    "tags": []
   },
   "source": [
    "# Control Flow\n",
    "\n",
    "- Control flow structures are specific structures we can put in our code to dictate the order in which code is executed, or whether it is executed at all.\n",
    "- Today we learn about for-loops, which allow us to repeat a section of code while varying elements systematically."
   ]
  },
  {
   "cell_type": "markdown",
   "id": "6d8be544-60d7-413f-bac9-96bfbfb83b92",
   "metadata": {
    "editable": true,
    "slideshow": {
     "slide_type": "slide"
    },
    "tags": []
   },
   "source": [
    "# For Loops\n",
    "\n",
    "- A for-loop is a logical structure composed of two parts: an iterable and an action.\n",
    "- They can be thought of as _for each element of x, do **a**._\n",
    "- In python, they are written as follows:\n",
    "\n",
    "```\n",
    "for i in iterable:\n",
    "    do x\n",
    "```\n",
    "\n",
    "- The four spaces (i.e., a tab) are necessary.\n"
   ]
  },
  {
   "cell_type": "code",
   "execution_count": null,
   "id": "5d456b52-baa8-4806-b067-b462d4a95656",
   "metadata": {
    "editable": true,
    "slideshow": {
     "slide_type": "subslide"
    },
    "tags": []
   },
   "outputs": [],
   "source": [
    "for number in [1, 2, 3, 4, 5, 6, 7]:\n",
    "    print(number, \"+\", number, \"=\", number+number)\n"
   ]
  },
  {
   "cell_type": "code",
   "execution_count": null,
   "id": "543c6a3d-8637-4409-aae1-efbd29d0b08d",
   "metadata": {
    "editable": true,
    "slideshow": {
     "slide_type": "fragment"
    },
    "tags": []
   },
   "outputs": [],
   "source": [
    "for person in favourite_icecream.keys():\n",
    "    print(person+\"'s favourite flavour of ice cream is \" +\n",
    "          favourite_icecream[person]+\".\")\n"
   ]
  },
  {
   "cell_type": "markdown",
   "id": "57abd071-64a4-4fb3-9fe9-7f8114453a4c",
   "metadata": {
    "editable": true,
    "slideshow": {
     "slide_type": "subslide"
    },
    "tags": []
   },
   "source": [
    "**_Task_**:\n",
    "\n",
    "- Using the dictionary you created in the previous section, use a for loop:\n",
    "    - Iterating over the people\n",
    "    - Printing \"**PERSON**'s favourite food is **FOOD**\""
   ]
  },
  {
   "cell_type": "code",
   "execution_count": null,
   "id": "d4ff7f1f-351e-40c1-bc41-fb41341deeb4",
   "metadata": {
    "editable": true,
    "slideshow": {
     "slide_type": ""
    },
    "tags": []
   },
   "outputs": [],
   "source": []
  },
  {
   "cell_type": "code",
   "execution_count": null,
   "id": "92be1949-99b0-40f6-9652-c34cd472189f",
   "metadata": {
    "editable": true,
    "slideshow": {
     "slide_type": ""
    },
    "tags": []
   },
   "outputs": [],
   "source": []
  },
  {
   "cell_type": "code",
   "execution_count": null,
   "id": "c42fa6b6-f269-4b1b-9a23-9b475972a469",
   "metadata": {
    "editable": true,
    "slideshow": {
     "slide_type": ""
    },
    "tags": []
   },
   "outputs": [],
   "source": []
  },
  {
   "cell_type": "code",
   "execution_count": null,
   "id": "decccb9c-afff-40d5-bcc7-0cf452236b58",
   "metadata": {},
   "outputs": [],
   "source": []
  },
  {
   "cell_type": "code",
   "execution_count": null,
   "id": "f41cafb3-d05e-4dbc-93fb-d900fec3384f",
   "metadata": {},
   "outputs": [],
   "source": []
  }
 ],
 "metadata": {
  "kernelspec": {
   "display_name": "ds3",
   "language": "python",
   "name": "ds3"
  },
  "language_info": {
   "codemirror_mode": {
    "name": "ipython",
    "version": 3
   },
   "file_extension": ".py",
   "mimetype": "text/x-python",
   "name": "python",
   "nbconvert_exporter": "python",
   "pygments_lexer": "ipython3",
   "version": "3.11.4"
  }
 },
 "nbformat": 4,
 "nbformat_minor": 5
}
