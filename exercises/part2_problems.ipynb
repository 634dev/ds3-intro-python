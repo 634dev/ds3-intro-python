{
 "cells": [
  {
   "cell_type": "markdown",
   "metadata": {},
   "source": [
    "# Part 2 Exercises\n"
   ]
  },
  {
   "cell_type": "markdown",
   "metadata": {},
   "source": [
    "## Task 1: Functions\n",
    "\n",
    "### Task 1a: Numeric Functions\n",
    "\n",
    "In this exercise you write functions whose domain are either scalar numbers or numeric vectors.\n",
    "\n",
    "#### Scalar Functions\n",
    "\n",
    "- One Input: Absolute value\n",
    "- Two Inputs: Calculate the difference between the first input and the largest multiple of the second input that is less than the first input. Therefore, if the inputs are (41, 10), the function should calculate 41 - 4\\*10 = 1.\n",
    "- Challenge: Write a function that returns the factors of the input. For example, 132 = 2\\*2\\*3\\*11, so $f(132) = \\{2, 2, 3, 11\\}$\n",
    "\n",
    "#### Vector Functions\n",
    "\n",
    "- One Input: Write a summary statistics function. Given a vector, this function should return the following statistics in a `pd.Series` object with corresponding index labels: number of elements, sum, mean, median, variance, standard deviation, and any other statistics that you think are helpful.\n",
    "- Two Inputs: Write a function that given two equal-length inputs, determines whether each element in the first is divisible by the second. The output should be a vector of equal length to the inputs, indicating with True/False values whether the arguments of the first vector were divisible by the corresponding element in the second. CHALLENGE: Allow the function to take either a scalar or vector input as its second argument.\n",
    "\n",
    "### Task 1b: String Functions\n",
    "\n",
    "#### Scalar Functions\n",
    "\n",
    "- One Input: Write a function that divides a string into a list of words. Note: the `str.split()` function is useful here.\n",
    "- Two Inputs: Write a function that calculates the number of times the second argument occurs in the first. e.g. \"How many times does the letter e occur in this sentence?\"\n",
    "\n",
    "#### Vector Function\n",
    "\n",
    "- One Input: Write a function that, given a vector/list/series of strings, returns a series where the index is are the unique words in the input, and the values are the number of times that unique word occurs in the entire input. Therefore, if I took a list containing all of the State of the Union Address, I want a function that tells me a) what the unique words in the collection of all Addresses is, and b) how many times those words occur in the total collection.\n"
   ]
  },
  {
   "cell_type": "markdown",
   "metadata": {},
   "source": [
    "## Task 2: Apply\n",
    "\n",
    "### Task 2a: Element-Wise Operations\n",
    "\n",
    "1. Using the `Age` variable from BES data subset (link below), calculate the age of each respondent rounded down to the nearest multiple of 5. Try writing this both using a defined function and with a `lambda` function.\n",
    "2. Recode the column `y09` as 0 and 1.\n",
    "3. Write a function that gets the lower bound from the income bounds reported in column `y01`, and returns it as an integer.\n",
    "\n",
    "\n",
    "### Task 2b: Grouped Functions\n",
    "\n",
    "These were not covered in the lecture, but you are encouraged to try them out. The relevant command [documentation](https://pandas.pydata.org/docs/reference/api/pandas.DataFrame.groupby.html)\n",
    "\n",
    "1. Calculate the summary statistics on `Age` for each region, and each region/constituency.\n",
    "2. Calculate the median income bracket (`y01`) per region and region/constituency.\n",
    "3. Calculate the most commonly given answer to `a02` per region and region/income bracket.\n",
    "4. Calculate the most commonly given answer to `a02` and `y06` per region."
   ]
  },
  {
   "cell_type": "code",
   "execution_count": null,
   "metadata": {},
   "outputs": [],
   "source": [
    "data_url = \"https://raw.githubusercontent.com/mmjh-dev/ds3-intro-python/main/data/bes_exercise_data.csv\""
   ]
  }
 ],
 "metadata": {
  "kernelspec": {
   "display_name": "ds3",
   "language": "python",
   "name": "ds3"
  },
  "language_info": {
   "codemirror_mode": {
    "name": "ipython",
    "version": 3
   },
   "file_extension": ".py",
   "mimetype": "text/x-python",
   "name": "python",
   "nbconvert_exporter": "python",
   "pygments_lexer": "ipython3",
   "version": "3.11.4"
  }
 },
 "nbformat": 4,
 "nbformat_minor": 4
}
