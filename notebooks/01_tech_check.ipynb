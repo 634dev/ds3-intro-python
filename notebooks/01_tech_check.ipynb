{
 "cells": [
  {
   "cell_type": "markdown",
   "id": "e110c140-b066-405d-9423-6ade0fa20967",
   "metadata": {},
   "source": [
    "# Colab Notebook\n",
    "\n",
    "Hello! This is an online coding notebook hosted by Google.\n",
    "\n",
    "If you don't know how to use it, watch me demonstrate.\n"
   ]
  },
  {
   "cell_type": "code",
   "execution_count": 1,
   "id": "58afce63-1725-4642-a999-a6c378dfe799",
   "metadata": {},
   "outputs": [
    {
     "name": "stdout",
     "output_type": "stream",
     "text": [
      "Hello Colab!\n"
     ]
    }
   ],
   "source": [
    "print(\"Hello Colab!\")"
   ]
  },
  {
   "cell_type": "code",
   "execution_count": null,
   "id": "1e385560-e9c9-4a91-a4a4-ee74374a9336",
   "metadata": {},
   "outputs": [],
   "source": []
  }
 ],
 "metadata": {
  "kernelspec": {
   "display_name": "Python 3 (ipykernel)",
   "language": "python",
   "name": "python3"
  },
  "language_info": {
   "codemirror_mode": {
    "name": "ipython",
    "version": 3
   },
   "file_extension": ".py",
   "mimetype": "text/x-python",
   "name": "python",
   "nbconvert_exporter": "python",
   "pygments_lexer": "ipython3",
   "version": "3.11.4"
  }
 },
 "nbformat": 4,
 "nbformat_minor": 5
}
