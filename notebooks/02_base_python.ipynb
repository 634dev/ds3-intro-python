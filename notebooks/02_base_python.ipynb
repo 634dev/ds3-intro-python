{
 "cells": [
  {
   "cell_type": "raw",
   "metadata": {
    "editable": true,
    "raw_mimetype": "",
    "slideshow": {
     "slide_type": ""
    },
    "tags": []
   },
   "source": [
    "---\n",
    "title: \"Part 1: Base Python\"\n",
    "author: \"Dr Musashi Jacobs-Harukawa\"\n",
    "date: \"15 Aug 2023\"\n",
    "---"
   ]
  },
  {
   "cell_type": "markdown",
   "metadata": {},
   "source": [
    "# Crash Course"
   ]
  },
  {
   "cell_type": "markdown",
   "metadata": {},
   "source": [
    "## \"Base\"\n",
    "\n",
    "- Like many languages, Python is enhanced by a great number of \"libraries\".\n",
    "- Libraries extend the functionality of a language, e.g. for data analysis."
   ]
  },
  {
   "cell_type": "markdown",
   "metadata": {},
   "source": [
    "## How much base Python do I need to know?\n",
    "\n",
    "- Varies with application\n",
    "- This course covers minimum needed for data analysis workflow\n",
    "- Deep learning or app development requires more\n",
    "- Improving knowledge of core functionality helps you write elegant code."
   ]
  },
  {
   "cell_type": "markdown",
   "metadata": {},
   "source": [
    "## Course Outline\n",
    "\n",
    "1. Variables\n",
    "2. Data Types\n",
    "3. Data Structures\n",
    "4. Control Flow\n",
    "5. Functions"
   ]
  },
  {
   "cell_type": "markdown",
   "metadata": {},
   "source": [
    "# Values, Variables and Types"
   ]
  },
  {
   "cell_type": "markdown",
   "metadata": {},
   "source": [
    "## Workspace\n",
    "\n",
    "_A mental image if this is your first time programming_\n",
    "\n",
    "- When we start the Python \"session\", imagine we create an empty box.\n",
    "- We use commands, written into the cells of the notebook, to interact with this box.\n",
    "    - We can create objects that persist inside the box.\n",
    "    - We can modify objects inside the box.\n",
    "- We use the `print()` function to display these objects in the output."
   ]
  },
  {
   "cell_type": "markdown",
   "metadata": {},
   "source": [
    "## First Command: \"Hello World!\"\n",
    "\n",
    "Run the following command:"
   ]
  },
  {
   "cell_type": "code",
   "execution_count": null,
   "metadata": {
    "output-location": "column-fragment"
   },
   "outputs": [],
   "source": [
    "print(\"Hello World!\")"
   ]
  },
  {
   "cell_type": "markdown",
   "metadata": {},
   "source": [
    "## Variable Assignment\n",
    "\n",
    "- Variables are names that point to particular objects in the box.\n",
    "- These objects can be values, functions, etc.\n",
    "- We assign variables with the `=` operator."
   ]
  },
  {
   "cell_type": "code",
   "execution_count": null,
   "metadata": {
    "output-location": "column-fragment"
   },
   "outputs": [],
   "source": [
    "x = 1\n",
    "y = 2\n",
    "print(x)\n",
    "print(y)"
   ]
  },
  {
   "cell_type": "markdown",
   "metadata": {},
   "source": [
    "## Aside: Variable Assignment Rules\n",
    "\n",
    "There are some rules for variable assignment:\n",
    "\n",
    "- Variable names cannot contain spaces\n"
   ]
  },
  {
   "cell_type": "code",
   "execution_count": null,
   "metadata": {
    "output-location": "default"
   },
   "outputs": [],
   "source": [
    "a variable = \"this will give an error\""
   ]
  },
  {
   "cell_type": "markdown",
   "metadata": {},
   "source": [
    "- The first letter of the variable cannot be a number or symbol"
   ]
  },
  {
   "cell_type": "code",
   "execution_count": null,
   "metadata": {
    "output-location": "default"
   },
   "outputs": [],
   "source": [
    "1st_variable = \"this will also give an error\""
   ]
  },
  {
   "cell_type": "markdown",
   "metadata": {},
   "source": [
    "Both of these return `SyntaxError` because the interpreter cannot understand these commands."
   ]
  },
  {
   "cell_type": "markdown",
   "metadata": {},
   "source": [
    "# Data Types\n",
    "\n",
    "Here are four data types in base Python:\n",
    "\n",
    "- Integer `int`: whole numbers\n",
    "- Boolean `bool`: true/false values\n",
    "- Float `float`: rational numbers\n",
    "- String `str`: character sequences"
   ]
  },
  {
   "cell_type": "markdown",
   "metadata": {},
   "source": [
    "## Integers\n",
    "\n",
    "Integers (`int`) are whole numbers, positive or negative.\n",
    "\n",
    "- Created by writing a number without a `.`"
   ]
  },
  {
   "cell_type": "code",
   "execution_count": null,
   "metadata": {},
   "outputs": [],
   "source": [
    "42\n",
    "0\n",
    "-15343"
   ]
  },
  {
   "cell_type": "markdown",
   "metadata": {},
   "source": [
    "## Integer Operations\n",
    "\n",
    "- As seen, integers are assigned with the `=` operator."
   ]
  },
  {
   "cell_type": "code",
   "execution_count": null,
   "metadata": {
    "output-location": "default"
   },
   "outputs": [],
   "source": [
    "a = 5\n",
    "b = 13"
   ]
  },
  {
   "cell_type": "markdown",
   "metadata": {},
   "source": [
    "- Arithmetic operations are as expected: `+`, `-`, `*`, `/`"
   ]
  },
  {
   "cell_type": "code",
   "execution_count": null,
   "metadata": {
    "output-location": "column-fragment"
   },
   "outputs": [],
   "source": [
    "print(a + b)\n",
    "print(a - b)\n",
    "print(a * b)"
   ]
  },
  {
   "cell_type": "markdown",
   "metadata": {},
   "source": [
    "- `==` tests equivalence."
   ]
  },
  {
   "cell_type": "code",
   "execution_count": null,
   "metadata": {
    "output-location": "column-fragment"
   },
   "outputs": [],
   "source": [
    "print(a == b)"
   ]
  },
  {
   "cell_type": "markdown",
   "metadata": {},
   "source": [
    "## Booleans\n",
    "\n",
    "- Booleans are True/False values.\n",
    "  - You saw them on the previous slide!\n",
    "- There are two Booleans: `True` and `False`."
   ]
  },
  {
   "cell_type": "markdown",
   "metadata": {},
   "source": [
    "## Boolean Operators\n",
    "\n",
    "- `and`: logical _conjunction_"
   ]
  },
  {
   "cell_type": "code",
   "execution_count": null,
   "metadata": {
    "output-location": "column-fragment"
   },
   "outputs": [],
   "source": [
    "print(True and True)\n",
    "print(True and False)\n",
    "print(False and True)\n",
    "print(False and False)"
   ]
  },
  {
   "cell_type": "markdown",
   "metadata": {},
   "source": [
    "- `or`: logical _disjunction_\n"
   ]
  },
  {
   "cell_type": "code",
   "execution_count": null,
   "metadata": {
    "output-location": "column-fragment"
   },
   "outputs": [],
   "source": [
    "print(True or True)\n",
    "print(True or False)\n",
    "print(False or True)\n",
    "print(False or False)"
   ]
  },
  {
   "cell_type": "markdown",
   "metadata": {},
   "source": [
    "## Aside: Bools and 0, 1\n",
    "\n",
    "Booleans behave like the integers 0 and 1.\n"
   ]
  },
  {
   "cell_type": "code",
   "execution_count": null,
   "metadata": {
    "output-location": "column"
   },
   "outputs": [],
   "source": [
    "True + True"
   ]
  },
  {
   "cell_type": "code",
   "execution_count": null,
   "metadata": {
    "output-location": "column"
   },
   "outputs": [],
   "source": [
    "True * False"
   ]
  },
  {
   "cell_type": "code",
   "execution_count": null,
   "metadata": {
    "output-location": "column-fragment"
   },
   "outputs": [],
   "source": [
    "# What do you think will happen?\n",
    "False / False"
   ]
  },
  {
   "cell_type": "markdown",
   "metadata": {},
   "source": [
    "## Floats\n",
    "\n",
    "- Floats are, technically, the representation of real numbers ($\\mathbb{R}$) in base 2.\n",
    "- For our purposes, all non-whole numbers are represented by floats.\n",
    "- Floats can be constructed using the `.` in a number:\n",
    "\n"
   ]
  },
  {
   "cell_type": "code",
   "execution_count": null,
   "metadata": {},
   "outputs": [],
   "source": [
    "x = 1.0\n",
    "y = 3.4"
   ]
  },
  {
   "cell_type": "markdown",
   "metadata": {},
   "source": [
    "## Integer Division\n",
    "\n",
    "Python also automatically converts the output of integer division to a float:\n",
    "\n"
   ]
  },
  {
   "cell_type": "code",
   "execution_count": null,
   "metadata": {
    "output-location": "column-fragment"
   },
   "outputs": [],
   "source": [
    "print(1 / 3)\n",
    "print(3)\n",
    "print(3 / 1)"
   ]
  },
  {
   "cell_type": "markdown",
   "metadata": {},
   "source": [
    "## Warning!!\n",
    "\n",
    "Floats can behave unpredictably.\n",
    "\n",
    "Note the following examples:\n"
   ]
  },
  {
   "cell_type": "code",
   "execution_count": null,
   "metadata": {
    "output-location": "column-fragment"
   },
   "outputs": [],
   "source": [
    "10 * 0.1 * 3 == 3"
   ]
  },
  {
   "cell_type": "code",
   "execution_count": null,
   "metadata": {
    "output-location": "column-fragment"
   },
   "outputs": [],
   "source": [
    "0.1 * 3 * 10 == 3"
   ]
  },
  {
   "cell_type": "code",
   "execution_count": null,
   "metadata": {
    "output-location": "column-fragment"
   },
   "outputs": [],
   "source": [
    "0.1 * 3 == 0.3"
   ]
  },
  {
   "cell_type": "code",
   "execution_count": null,
   "metadata": {
    "output-location": "column-fragment"
   },
   "outputs": [],
   "source": [
    "0.1 * 3"
   ]
  },
  {
   "cell_type": "markdown",
   "metadata": {},
   "source": [
    "See: [0.30000000000000004.com](https://0.30000000000000004.com/)"
   ]
  },
  {
   "cell_type": "markdown",
   "metadata": {},
   "source": [
    "## Strings\n",
    "\n",
    "Strings (`str`) are a _sequence of characters_."
   ]
  },
  {
   "cell_type": "markdown",
   "metadata": {},
   "source": [
    "## Creation\n",
    "\n",
    "- Strings are created by writing a sequence of letters between _single **or** double_ quotes."
   ]
  },
  {
   "cell_type": "code",
   "execution_count": null,
   "metadata": {},
   "outputs": [],
   "source": [
    "first_word = \"Hello\"\n",
    "second_word = 'World'\n",
    "first_punct = \"!\""
   ]
  },
  {
   "cell_type": "markdown",
   "metadata": {},
   "source": [
    "## Equivalence\n",
    "\n",
    "- We can test equivalence using the `==` operator.\n",
    "\n"
   ]
  },
  {
   "cell_type": "code",
   "execution_count": null,
   "metadata": {
    "output-location": "column-fragment"
   },
   "outputs": [],
   "source": [
    "print(first_word == first_word)\n",
    "print(first_word == second_word)"
   ]
  },
  {
   "cell_type": "markdown",
   "metadata": {},
   "source": [
    "## Concatenation\n",
    "\n",
    "Combine _strings_ with the `+` operator:\n",
    "\n",
    " "
   ]
  },
  {
   "cell_type": "code",
   "execution_count": null,
   "metadata": {},
   "outputs": [],
   "source": [
    "print(first_word + second_word + first_punct)"
   ]
  },
  {
   "cell_type": "markdown",
   "metadata": {},
   "source": [
    "You can use variables and values together:"
   ]
  },
  {
   "cell_type": "code",
   "execution_count": null,
   "metadata": {
    "editable": true,
    "slideshow": {
     "slide_type": ""
    },
    "tags": []
   },
   "outputs": [],
   "source": [
    "print(first_word + \" \" + second_word + first_punct)"
   ]
  },
  {
   "cell_type": "markdown",
   "metadata": {
    "editable": true,
    "slideshow": {
     "slide_type": ""
    },
    "tags": []
   },
   "source": [
    "## Indexing\n",
    "\n",
    "- Strings are a _sequence_.\n",
    "- Strings can be indexed by using the `[]` operator.\n",
    "- _Note that python counts from zero!_\n",
    "\n"
   ]
  },
  {
   "cell_type": "code",
   "execution_count": null,
   "metadata": {
    "editable": true,
    "slideshow": {
     "slide_type": ""
    },
    "tags": []
   },
   "outputs": [],
   "source": [
    "the_word = \"bird\"\n",
    "\n",
    "print(the_word + \" is the word\")\n",
    "print(the_word[0] + \" is the first letter of the word\")\n",
    "print(the_word[1] + \" is the second letter of the word\")"
   ]
  },
  {
   "cell_type": "markdown",
   "metadata": {
    "editable": true,
    "slideshow": {
     "slide_type": ""
    },
    "tags": []
   },
   "source": [
    "## Slices\n",
    "\n",
    "- Use the `:` to return a range of values.\n",
    "- The range `[m:n]` returns from the (m+1)th letter to the nth letter.\n"
   ]
  },
  {
   "cell_type": "code",
   "execution_count": null,
   "metadata": {
    "editable": true,
    "slideshow": {
     "slide_type": ""
    },
    "tags": []
   },
   "outputs": [],
   "source": [
    "print(the_word[0:2] + \" is the first two letters of the word\")\n",
    "print(the_word[1:3] + \" is the second and third letter of the word\")"
   ]
  },
  {
   "cell_type": "markdown",
   "metadata": {
    "editable": true,
    "slideshow": {
     "slide_type": ""
    },
    "tags": []
   },
   "source": [
    "## Slices"
   ]
  },
  {
   "cell_type": "code",
   "execution_count": null,
   "metadata": {
    "editable": true,
    "output-location": "column-fragment",
    "slideshow": {
     "slide_type": ""
    },
    "tags": []
   },
   "outputs": [],
   "source": [
    "# What does this return?\n",
    "the_word[0:3] + the_word[0]"
   ]
  },
  {
   "cell_type": "markdown",
   "metadata": {
    "editable": true,
    "slideshow": {
     "slide_type": ""
    },
    "tags": []
   },
   "source": [
    "## Negative Indexing\n",
    "\n",
    "- `[-1]` returns the last element of a sequence; in this case, the last character in a word.\n"
   ]
  },
  {
   "cell_type": "code",
   "execution_count": null,
   "metadata": {
    "editable": true,
    "output-location": "column-fragment",
    "slideshow": {
     "slide_type": ""
    },
    "tags": []
   },
   "outputs": [],
   "source": [
    "print(the_word[-1])"
   ]
  },
  {
   "cell_type": "markdown",
   "metadata": {
    "editable": true,
    "slideshow": {
     "slide_type": ""
    },
    "tags": []
   },
   "source": [
    "- We can use this to get the $n$ last values of a sequence:\n"
   ]
  },
  {
   "cell_type": "code",
   "execution_count": null,
   "metadata": {
    "editable": true,
    "output-location": "column-fragment",
    "slideshow": {
     "slide_type": ""
    },
    "tags": []
   },
   "outputs": [],
   "source": [
    "print(the_word[-3:])"
   ]
  },
  {
   "cell_type": "markdown",
   "metadata": {
    "editable": true,
    "slideshow": {
     "slide_type": ""
    },
    "tags": []
   },
   "source": [
    "## Checking and Coercing Types\n",
    "\n",
    "- `type()` returns the type of an object.\n",
    "\n"
   ]
  },
  {
   "cell_type": "code",
   "execution_count": null,
   "metadata": {
    "editable": true,
    "output-location": "column-fragment",
    "slideshow": {
     "slide_type": ""
    },
    "tags": []
   },
   "outputs": [],
   "source": [
    "type(15)"
   ]
  },
  {
   "cell_type": "markdown",
   "metadata": {
    "editable": true,
    "slideshow": {
     "slide_type": ""
    },
    "tags": []
   },
   "source": [
    "- The type of an object can be coerced by calling the a different type on the object.\n"
   ]
  },
  {
   "cell_type": "code",
   "execution_count": null,
   "metadata": {
    "editable": true,
    "output-location": "column-fragment",
    "slideshow": {
     "slide_type": ""
    },
    "tags": []
   },
   "outputs": [],
   "source": [
    "type(float(15))"
   ]
  },
  {
   "cell_type": "markdown",
   "metadata": {
    "editable": true,
    "slideshow": {
     "slide_type": ""
    },
    "tags": []
   },
   "source": [
    "## Checking and Coercing Types\n",
    "\n",
    "- Sometimes coercion is not possible:\n"
   ]
  },
  {
   "cell_type": "code",
   "execution_count": null,
   "metadata": {
    "editable": true,
    "output-location": "column-fragment",
    "slideshow": {
     "slide_type": ""
    },
    "tags": []
   },
   "outputs": [],
   "source": [
    "int('meow')"
   ]
  },
  {
   "cell_type": "markdown",
   "metadata": {
    "editable": true,
    "slideshow": {
     "slide_type": ""
    },
    "tags": []
   },
   "source": [
    "- And sometimes it is unpredictable"
   ]
  },
  {
   "cell_type": "code",
   "execution_count": null,
   "metadata": {
    "editable": true,
    "output-location": "column-fragment",
    "slideshow": {
     "slide_type": ""
    },
    "tags": []
   },
   "outputs": [],
   "source": [
    "print(bool('meow'))\n",
    "print(int(-0.99))\n",
    "print(str(False)==False)"
   ]
  },
  {
   "cell_type": "markdown",
   "metadata": {
    "editable": true,
    "slideshow": {
     "slide_type": ""
    },
    "tags": []
   },
   "source": [
    "# Data Structures\n",
    "\n",
    "- **Data types** concern the representation of individual data points, or observations.\n",
    "- **Data structures** concern the relations between observations.\n",
    "    - Are the data points members of the same set?\n",
    "    - Are the data points members of the same sequence?\n",
    "    - Are the data points different features of single empirical unit?"
   ]
  },
  {
   "cell_type": "markdown",
   "metadata": {
    "editable": true,
    "slideshow": {
     "slide_type": ""
    },
    "tags": []
   },
   "source": [
    "## Two Python Data Structures\n",
    "\n",
    "- Lists (`list`): ordered array\n",
    "- Dictionaries (`dict`): key-value mapping"
   ]
  },
  {
   "cell_type": "markdown",
   "metadata": {
    "editable": true,
    "slideshow": {
     "slide_type": ""
    },
    "tags": []
   },
   "source": [
    "## Lists\n",
    "\n",
    "Lists are a type of data container in base Python. Lists are:\n",
    "\n",
    "- 1-dimensional\n",
    "- Ordered and indexed\n",
    "- Mutable\n",
    "- Able to contain any (type of) object\\n\\n\n",
    "\n",
    "To create a list, write a sequence of values separated by commas between square brackets:"
   ]
  },
  {
   "cell_type": "code",
   "execution_count": null,
   "metadata": {
    "editable": true,
    "slideshow": {
     "slide_type": ""
    },
    "tags": []
   },
   "outputs": [],
   "source": [
    "my_list = [1, 2, 3]  # only integers\n",
    "my_list = [1, 2.0, '3']  # integer, float and string"
   ]
  },
  {
   "cell_type": "markdown",
   "metadata": {
    "editable": true,
    "slideshow": {
     "slide_type": ""
    },
    "tags": []
   },
   "source": [
    "## Indexing and Slicing Lists\n",
    "\n",
    "- Lists can be indexed in the same way as strings, using the `list[m:n]` notation.\n",
    "- `list[0]` returns the first value of the list\n"
   ]
  },
  {
   "cell_type": "code",
   "execution_count": null,
   "metadata": {
    "editable": true,
    "output-location": "column-fragment",
    "slideshow": {
     "slide_type": ""
    },
    "tags": []
   },
   "outputs": [],
   "source": [
    "my_list = [1, 2.0, '3']\n",
    "print(my_list[0])"
   ]
  },
  {
   "cell_type": "markdown",
   "metadata": {
    "editable": true,
    "slideshow": {
     "slide_type": ""
    },
    "tags": []
   },
   "source": [
    "- `list[1:3]` returns a list containing the second and third value of the list\n"
   ]
  },
  {
   "cell_type": "code",
   "execution_count": null,
   "metadata": {
    "editable": true,
    "output-location": "column-fragment",
    "slideshow": {
     "slide_type": ""
    },
    "tags": []
   },
   "outputs": [],
   "source": [
    "print(my_list[1:3])"
   ]
  },
  {
   "cell_type": "markdown",
   "metadata": {
    "editable": true,
    "slideshow": {
     "slide_type": ""
    },
    "tags": []
   },
   "source": [
    "## Growing Lists\n",
    "\n",
    "- Use `len()` to get the length of a `list`\n"
   ]
  },
  {
   "cell_type": "code",
   "execution_count": null,
   "metadata": {
    "editable": true,
    "output-location": "column-fragment",
    "slideshow": {
     "slide_type": ""
    },
    "tags": []
   },
   "outputs": [],
   "source": [
    "len(my_list)"
   ]
  },
  {
   "cell_type": "markdown",
   "metadata": {
    "editable": true,
    "slideshow": {
     "slide_type": ""
    },
    "tags": []
   },
   "source": [
    "- Use `.append()` to add an element at the end\n"
   ]
  },
  {
   "cell_type": "code",
   "execution_count": null,
   "metadata": {
    "editable": true,
    "output-location": "column-fragment",
    "slideshow": {
     "slide_type": ""
    },
    "tags": []
   },
   "outputs": [],
   "source": [
    "my_list.append(4)\n",
    "print(my_list)"
   ]
  },
  {
   "cell_type": "markdown",
   "metadata": {
    "editable": true,
    "slideshow": {
     "slide_type": ""
    },
    "tags": []
   },
   "source": [
    "- Adding lists concatenates them:\n"
   ]
  },
  {
   "cell_type": "code",
   "execution_count": null,
   "metadata": {
    "editable": true,
    "output-location": "column-fragment",
    "slideshow": {
     "slide_type": ""
    },
    "tags": []
   },
   "outputs": [],
   "source": [
    "my_list + ['fivesixseven8']"
   ]
  },
  {
   "cell_type": "markdown",
   "metadata": {
    "editable": true,
    "slideshow": {
     "slide_type": ""
    },
    "tags": []
   },
   "source": [
    "## Removing Items\n",
    "\n",
    "- Use `.pop()` to remove the final element\n",
    "  - NB: `.pop()` also returns the final element\n"
   ]
  },
  {
   "cell_type": "code",
   "execution_count": null,
   "metadata": {
    "editable": true,
    "output-location": "column-fragment",
    "slideshow": {
     "slide_type": ""
    },
    "tags": []
   },
   "outputs": [],
   "source": [
    "last_element = my_list.pop()\n",
    "print(last_element)\n",
    "print(my_list)"
   ]
  },
  {
   "cell_type": "markdown",
   "metadata": {
    "editable": true,
    "slideshow": {
     "slide_type": ""
    },
    "tags": []
   },
   "source": [
    "## Changing Values in Lists\\n\\n\n",
    "We can assign or reassign values using `=` and indexers:\n"
   ]
  },
  {
   "cell_type": "code",
   "execution_count": null,
   "metadata": {
    "editable": true,
    "output-location": "column-fragment",
    "slideshow": {
     "slide_type": ""
    },
    "tags": []
   },
   "outputs": [],
   "source": [
    "x = ['a', 't', 'e']\n",
    "print(x)"
   ]
  },
  {
   "cell_type": "code",
   "execution_count": null,
   "metadata": {
    "editable": true,
    "output-location": "column-fragment",
    "slideshow": {
     "slide_type": ""
    },
    "tags": []
   },
   "outputs": [],
   "source": [
    "x[0] = 'A'\n",
    "x[1] = 'T'\n",
    "print(x)"
   ]
  },
  {
   "cell_type": "markdown",
   "metadata": {
    "editable": true,
    "slideshow": {
     "slide_type": ""
    },
    "tags": []
   },
   "source": [
    "\n",
    "\n",
    "We can also replace slices:"
   ]
  },
  {
   "cell_type": "code",
   "execution_count": null,
   "metadata": {
    "editable": true,
    "output-location": "column-fragment",
    "slideshow": {
     "slide_type": ""
    },
    "tags": []
   },
   "outputs": [],
   "source": [
    "x[0:2] = ['a', 't']\n",
    "print(x)"
   ]
  },
  {
   "cell_type": "markdown",
   "metadata": {
    "editable": true,
    "slideshow": {
     "slide_type": ""
    },
    "tags": []
   },
   "source": [
    "## Dictionaries\n",
    "\n",
    "- Dictionaries are an unordered mapping of _keys_ to _values_. \n",
    "- Created by writing a list of `key:value` pairs separated by commas between `{}`.\n",
    "\n"
   ]
  },
  {
   "cell_type": "code",
   "execution_count": null,
   "metadata": {
    "editable": true,
    "slideshow": {
     "slide_type": ""
    },
    "tags": []
   },
   "outputs": [],
   "source": [
    "favourite_icecream = {\n",
    "    \"Musashi\": \"chocolate\",\n",
    "    \"Maria\": \"dulce de leche\"\n",
    "}"
   ]
  },
  {
   "cell_type": "markdown",
   "metadata": {
    "editable": true,
    "slideshow": {
     "slide_type": ""
    },
    "tags": []
   },
   "source": [
    "## Retrieving Values\n",
    "\n",
    "- Values are accessed with `dict_name[key]`\n",
    "\n",
    " "
   ]
  },
  {
   "cell_type": "code",
   "execution_count": null,
   "metadata": {
    "editable": true,
    "slideshow": {
     "slide_type": ""
    },
    "tags": []
   },
   "outputs": [],
   "source": [
    "print(favourite_icecream['Musashi'])\n",
    "print(favourite_icecream['Maria'])"
   ]
  },
  {
   "cell_type": "markdown",
   "metadata": {
    "editable": true,
    "slideshow": {
     "slide_type": ""
    },
    "tags": []
   },
   "source": [
    "## Modifying Dictionaries\n",
    "\n",
    "- New key-value pairs can be added or modified with `=`\n",
    "\n"
   ]
  },
  {
   "cell_type": "code",
   "execution_count": null,
   "metadata": {
    "editable": true,
    "slideshow": {
     "slide_type": ""
    },
    "tags": []
   },
   "outputs": [],
   "source": [
    "favourite_icecream['Chris'] = 'pistachio'\n",
    "favourite_icecream['Musashi'] = 'green tea'\n",
    "\n",
    "print(favourite_icecream['Musashi'])\n",
    "print(favourite_icecream['Chris'])"
   ]
  },
  {
   "cell_type": "markdown",
   "metadata": {
    "editable": true,
    "slideshow": {
     "slide_type": ""
    },
    "tags": []
   },
   "source": [
    "## Accessing All Keys or Values\n",
    "\n",
    "To view all of the keys or values in a dictionary, you can use the following _methods_:\n",
    "\n"
   ]
  },
  {
   "cell_type": "code",
   "execution_count": null,
   "metadata": {
    "editable": true,
    "output-location": "column-fragment",
    "slideshow": {
     "slide_type": ""
    },
    "tags": []
   },
   "outputs": [],
   "source": [
    "print(favourite_icecream.keys())"
   ]
  },
  {
   "cell_type": "code",
   "execution_count": null,
   "metadata": {
    "editable": true,
    "output-location": "column-fragment",
    "slideshow": {
     "slide_type": ""
    },
    "tags": []
   },
   "outputs": [],
   "source": [
    "print(favourite_icecream.values())"
   ]
  },
  {
   "cell_type": "code",
   "execution_count": null,
   "metadata": {
    "editable": true,
    "output-location": "column-fragment",
    "slideshow": {
     "slide_type": ""
    },
    "tags": []
   },
   "outputs": [],
   "source": [
    "print(favourite_icecream.items())"
   ]
  },
  {
   "cell_type": "markdown",
   "metadata": {
    "editable": true,
    "slideshow": {
     "slide_type": ""
    },
    "tags": []
   },
   "source": [
    "# Control Flow\n",
    "\n",
    "- Control flow structures specify whether and in what order to run blocks of our code.\n",
    "- We focus on two:\n",
    "    - Conditional execution\n",
    "    - Iteration (For loops)"
   ]
  },
  {
   "cell_type": "markdown",
   "metadata": {
    "editable": true,
    "slideshow": {
     "slide_type": ""
    },
    "tags": []
   },
   "source": [
    "## Conditional Execution\n",
    "\n",
    "- In Python, to execute code conditionally, we use the following syntax:"
   ]
  },
  {
   "cell_type": "code",
   "execution_count": null,
   "metadata": {
    "editable": true,
    "output-location": "default",
    "slideshow": {
     "slide_type": ""
    },
    "tags": []
   },
   "outputs": [],
   "source": [
    "if CONDITION:\n",
    "    RUN_COMMAND"
   ]
  },
  {
   "cell_type": "markdown",
   "metadata": {
    "editable": true,
    "slideshow": {
     "slide_type": ""
    },
    "tags": []
   },
   "source": [
    "- If `CONDITION` is `True`, then `RUN_COMMAND` is executed."
   ]
  },
  {
   "cell_type": "markdown",
   "metadata": {
    "editable": true,
    "slideshow": {
     "slide_type": ""
    },
    "tags": []
   },
   "source": [
    "## Absolute Value\n",
    "\n",
    "- Suppose we want the absolute value of a number.\n",
    "- \"if number is negative, then multiply by -1\"\n",
    "- We can write it as follows:"
   ]
  },
  {
   "cell_type": "code",
   "execution_count": null,
   "metadata": {
    "editable": true,
    "slideshow": {
     "slide_type": ""
    },
    "tags": []
   },
   "outputs": [],
   "source": [
    "number = -2\n",
    "\n",
    "if number < 0:\n",
    "    number = number * -1\n",
    "\n",
    "print(\"Absolute value is\", number)"
   ]
  },
  {
   "cell_type": "markdown",
   "metadata": {
    "editable": true,
    "slideshow": {
     "slide_type": ""
    },
    "tags": []
   },
   "source": [
    "## If/Else\n",
    "\n",
    "- We specify what happens if `CONDITION` evaluates `False` using the `else` command.\n"
   ]
  },
  {
   "cell_type": "code",
   "execution_count": null,
   "metadata": {
    "editable": true,
    "slideshow": {
     "slide_type": ""
    },
    "tags": []
   },
   "outputs": [],
   "source": [
    "language_to_learn = \"Python\"\n",
    "\n",
    "if language_to_learn == \"Python\":\n",
    "    print(\"You are in the right place!\")\n",
    "else:\n",
    "    print(\"You might be lost!\")"
   ]
  },
  {
   "cell_type": "markdown",
   "metadata": {
    "editable": true,
    "slideshow": {
     "slide_type": ""
    },
    "tags": []
   },
   "source": [
    "## If/Elif/Else\n",
    "\n",
    "- `elif` evaluates if the previous `if` or `elif` is `False`\n",
    "- and executes if the statement evaluates `True`.\n"
   ]
  },
  {
   "cell_type": "code",
   "execution_count": null,
   "metadata": {
    "editable": true,
    "slideshow": {
     "slide_type": ""
    },
    "tags": []
   },
   "outputs": [],
   "source": [
    "language_to_learn = \"Julia\"\n",
    "\n",
    "if language_to_learn == \"Python\":\n",
    "    print(\"You are in the right place!\")\n",
    "elif language_to_learn == \"Julia\":\n",
    "    print(\"Hertie should offer Julia!\")\n",
    "elif language_to_learn == \"R\":\n",
    "    print(\"You should learn a better coding language!\")\n",
    "else:\n",
    "    print(\"You might be lost!\")"
   ]
  },
  {
   "cell_type": "markdown",
   "metadata": {
    "editable": true,
    "slideshow": {
     "slide_type": ""
    },
    "tags": []
   },
   "source": [
    "## For Loops\n",
    "\n",
    "- A for-loop is a logical structure composed of two parts: an iterable and an action.\n",
    "- In python, they are written as follows:\n"
   ]
  },
  {
   "cell_type": "code",
   "execution_count": null,
   "metadata": {
    "editable": true,
    "slideshow": {
     "slide_type": ""
    },
    "tags": []
   },
   "outputs": [],
   "source": [
    "for i in ITERABLE:\n",
    "    RUN_COMMAND"
   ]
  },
  {
   "cell_type": "markdown",
   "metadata": {
    "editable": true,
    "slideshow": {
     "slide_type": ""
    },
    "tags": []
   },
   "source": [
    "## Simple Example"
   ]
  },
  {
   "cell_type": "code",
   "execution_count": null,
   "metadata": {
    "editable": true,
    "slideshow": {
     "slide_type": ""
    },
    "tags": []
   },
   "outputs": [],
   "source": [
    "for number in [1, 2, 3, 4, 5, 6, 7]:\n",
    "    print(number, \"+\", number, \"=\", number+number)"
   ]
  },
  {
   "cell_type": "markdown",
   "metadata": {
    "editable": true,
    "slideshow": {
     "slide_type": ""
    },
    "tags": []
   },
   "source": [
    "## Incrementing a Counter"
   ]
  },
  {
   "cell_type": "code",
   "execution_count": null,
   "metadata": {
    "editable": true,
    "slideshow": {
     "slide_type": ""
    },
    "tags": []
   },
   "outputs": [],
   "source": [
    "counter = 1\n",
    "for number in [1, 2, 3, 4, 5, 6, 7]:\n",
    "    print(number, \"*\", counter, \"=\", number*counter)\n",
    "    counter = counter*number"
   ]
  },
  {
   "cell_type": "markdown",
   "metadata": {
    "editable": true,
    "slideshow": {
     "slide_type": ""
    },
    "tags": []
   },
   "source": [
    "# Functions"
   ]
  },
  {
   "cell_type": "markdown",
   "metadata": {
    "editable": true,
    "slideshow": {
     "slide_type": ""
    },
    "tags": []
   },
   "source": [
    "## Defining Functions\n",
    "\n",
    "Here's a simple function that adds 1 to the input:"
   ]
  },
  {
   "cell_type": "code",
   "execution_count": null,
   "metadata": {
    "editable": true,
    "slideshow": {
     "slide_type": ""
    },
    "tags": []
   },
   "outputs": [],
   "source": [
    "def add_one(x):\n",
    "    y = x+1\n",
    "    return y"
   ]
  },
  {
   "cell_type": "markdown",
   "metadata": {
    "editable": true,
    "slideshow": {
     "slide_type": ""
    },
    "tags": []
   },
   "source": [
    "- The command `def` followed by a space tells Python that you are defining a function.\n",
    "- This function is given the name followed by `def`; in this case `add_one`.\n",
    "- The _arguments_ of the function are given after the function name, inside `()`.\n",
    "- The `:` says that the definition line is done. The following line must be indented by four spaces."
   ]
  },
  {
   "cell_type": "markdown",
   "metadata": {
    "editable": true,
    "slideshow": {
     "slide_type": ""
    },
    "tags": []
   },
   "source": [
    "## Namespaces\n",
    "\n",
    "- Python has _namespaces_ for variables.\n",
    "- There are multiple levels of namespace, but the two relevant to you are _local_ and _global_.\n",
    "- Variables defined _within_ a function are created within the _local_ namespace of that function.\n",
    "    - This means that they are only accessible from within the function.\n",
    "- Variables defined _outside_ a function are created within the _global_ namespace.\n",
    "- If a function contains a reference to a variable, it will first check to see whether the variable exists in the _local_ namespace, and then the _global_ one."
   ]
  },
  {
   "cell_type": "markdown",
   "metadata": {
    "editable": true,
    "slideshow": {
     "slide_type": ""
    },
    "tags": []
   },
   "source": [
    "## Namespace Examples\n",
    "\n",
    "_Clearing the environment first_"
   ]
  },
  {
   "cell_type": "code",
   "execution_count": null,
   "metadata": {
    "editable": true,
    "slideshow": {
     "slide_type": ""
    },
    "tags": []
   },
   "outputs": [],
   "source": [
    "%reset -f"
   ]
  },
  {
   "cell_type": "markdown",
   "metadata": {
    "editable": true,
    "slideshow": {
     "slide_type": ""
    },
    "tags": []
   },
   "source": [
    "## Local Variables not Accessibly Globally\n",
    "\n",
    "The following code will result in an error:\n"
   ]
  },
  {
   "cell_type": "code",
   "execution_count": null,
   "metadata": {
    "editable": true,
    "slideshow": {
     "slide_type": ""
    },
    "tags": []
   },
   "outputs": [],
   "source": [
    "def f(x):\n",
    "    y = 5\n",
    "    return x + y\n",
    "\n",
    "print(y)"
   ]
  },
  {
   "cell_type": "markdown",
   "metadata": {
    "editable": true,
    "slideshow": {
     "slide_type": ""
    },
    "tags": []
   },
   "source": [
    "## Local Accessed Before Global\n",
    "\n",
    "The following code will return the _local_ value of `y`, thus returning 10.\n"
   ]
  },
  {
   "cell_type": "code",
   "execution_count": null,
   "metadata": {
    "editable": true,
    "slideshow": {
     "slide_type": ""
    },
    "tags": []
   },
   "outputs": [],
   "source": [
    "y = 0\n",
    "\n",
    "def f(x):\n",
    "    y = 5\n",
    "    return x + y\n",
    "\n",
    "print(f(5))"
   ]
  },
  {
   "cell_type": "markdown",
   "metadata": {
    "editable": true,
    "slideshow": {
     "slide_type": ""
    },
    "tags": []
   },
   "source": [
    "## Functions Reading from Global Variables\n",
    "\n",
    "The following code uses `y`, which is defined globally. Therefore it returns 7."
   ]
  },
  {
   "cell_type": "code",
   "execution_count": null,
   "metadata": {
    "editable": true,
    "slideshow": {
     "slide_type": ""
    },
    "tags": []
   },
   "outputs": [],
   "source": [
    "y = 2\n",
    "\n",
    "def f(x):\n",
    "    return x + y\n",
    "\n",
    "print(f(5))"
   ]
  },
  {
   "cell_type": "markdown",
   "metadata": {
    "editable": true,
    "slideshow": {
     "slide_type": ""
    },
    "tags": []
   },
   "source": [
    "## `Lambda` Functions\n",
    "\n",
    "Python has _lambda functions_. These are essentially a way to define a function in-line. Below, the function `f` is equivalent to the line `lambda x: x+1`."
   ]
  },
  {
   "cell_type": "code",
   "execution_count": null,
   "metadata": {
    "editable": true,
    "slideshow": {
     "slide_type": ""
    },
    "tags": []
   },
   "outputs": [],
   "source": [
    "def f(x):\n",
    "    return x+1\n",
    "\n",
    "lambda x: x+1"
   ]
  },
  {
   "cell_type": "markdown",
   "metadata": {
    "editable": true,
    "slideshow": {
     "slide_type": ""
    },
    "tags": []
   },
   "source": [
    "# Recap"
   ]
  },
  {
   "cell_type": "markdown",
   "metadata": {
    "editable": true,
    "slideshow": {
     "slide_type": ""
    },
    "tags": []
   },
   "source": [
    "## We covered a lot!\n",
    "\n",
    "- 4 Data Types\n",
    "  - `int`: whole numbers\n",
    "  - `float`: rational numbers. Unexpected behavior.\n",
    "  - `bool`: True/False values\n",
    "  - `str`: Character sequence. Behaves like sequence.\n",
    "- 2 data structures\n",
    "  - Lists: ordered sequence of values\n",
    "  - Dictionaries: mapping of key to value\n",
    "- 2 control flow structures\n",
    "  - Conditional execution: `if`/`elif`/`else`\n",
    "  - Iteration: for-loops\n",
    "- How to write functions"
   ]
  },
  {
   "cell_type": "markdown",
   "metadata": {
    "editable": true,
    "slideshow": {
     "slide_type": ""
    },
    "tags": []
   },
   "source": [
    "## Question Time"
   ]
  },
  {
   "cell_type": "markdown",
   "metadata": {
    "editable": true,
    "slideshow": {
     "slide_type": ""
    },
    "tags": []
   },
   "source": [
    "# Break"
   ]
  },
  {
   "cell_type": "code",
   "execution_count": null,
   "metadata": {
    "editable": true,
    "slideshow": {
     "slide_type": ""
    },
    "tags": []
   },
   "outputs": [],
   "source": []
  }
 ],
 "metadata": {
  "kernelspec": {
   "display_name": "Python 3 (ipykernel)",
   "language": "python",
   "name": "python3"
  },
  "language_info": {
   "codemirror_mode": {
    "name": "ipython",
    "version": 3
   },
   "file_extension": ".py",
   "mimetype": "text/x-python",
   "name": "python",
   "nbconvert_exporter": "python",
   "pygments_lexer": "ipython3",
   "version": "3.11.4"
  }
 },
 "nbformat": 4,
 "nbformat_minor": 4
}
